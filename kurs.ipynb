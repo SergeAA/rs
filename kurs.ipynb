{
 "cells": [
  {
   "cell_type": "markdown",
   "metadata": {
    "heading_collapsed": true
   },
   "source": [
    "## Курсовой проект"
   ]
  },
  {
   "cell_type": "markdown",
   "metadata": {
    "hidden": true
   },
   "source": [
    "**Основное**\n",
    "- Дедлайн - 21 июня 23:59\n",
    "- Целевая метрика precision@5. Порог для уcпешной сдачи проекта precision@5 > 25%\n",
    "- Бейзлайн решения - [MainRecommender](https://github.com/geangohn/recsys-tutorial/blob/master/src/recommenders.py)\n",
    "- Сдаем ссылку на github с решением. На github должен быть файл recommendations.csv (user_id | [rec_1, rec_2, ...] с рекомендациями. rec_i - реальные id item-ов (из retail_train.csv)\n",
    "\n",
    "- Будет public тестовый датасет, на котором вы сможете измерять метрику\n",
    "- Также будет private тестовый датасет для измерения финального качества\n",
    "- НЕ обязательно, но крайне желательно использовать 2-ух уровневые рекоммендательные системы в проекте\n",
    "\n",
    "**Hints:** \n",
    "\n",
    "Сначала просто попробуйте разные параметры MainRecommender:  \n",
    "- N в топ-N товарах при формировании user-item матирцы (сейчас топ-5000)  \n",
    "- Различные веса в user-item матрице (0/1, кол-во покупок, log(кол-во покупок + 1), сумма покупки, ...)  \n",
    "- Разные взвешивания матрицы (TF-IDF, BM25 - у него есть параметры)  \n",
    "- Разные смешивания рекомендаций (обратите внимание на бейзлайн - прошлые покупки юзера)  \n",
    "\n",
    "Сделайте MVP - минимально рабочий продукт - (пусть даже top-popular), а потом его улучшайте\n",
    "\n",
    "Если вы делаете двухуровневую модель - следите за валидацией "
   ]
  },
  {
   "cell_type": "code",
   "execution_count": 128,
   "metadata": {
    "ExecuteTime": {
     "end_time": "2020-06-19T05:54:04.672094Z",
     "start_time": "2020-06-19T05:54:04.620116Z"
    },
    "hidden": true
   },
   "outputs": [],
   "source": [
    "%matplotlib inline\n",
    "\n",
    "import importlib\n",
    "\n",
    "import pandas as pd\n",
    "import numpy as np\n",
    "import matplotlib.pyplot as plt\n",
    "\n",
    "from scipy.sparse import csr_matrix\n",
    "from implicit import als\n",
    "from lightgbm import LGBMClassifier\n",
    "\n",
    "import os, sys\n",
    "module_path = os.path.abspath(os.path.join(os.pardir))\n",
    "if module_path not in sys.path:\n",
    "    sys.path.append(module_path)\n",
    "\n",
    "import src"
   ]
  },
  {
   "cell_type": "code",
   "execution_count": 125,
   "metadata": {
    "ExecuteTime": {
     "end_time": "2020-06-19T05:52:26.559933Z",
     "start_time": "2020-06-19T05:52:21.389332Z"
    },
    "hidden": true
   },
   "outputs": [],
   "source": [
    "DATAROOT = './data/'\n",
    "\n",
    "data = pd.read_csv(f'{DATAROOT}transactions.csv.gz', compression='gzip')\n",
    "test = pd.read_csv(f'{DATAROOT}test.csv.gz', compression='gzip')\n",
    "\n",
    "items = pd.read_csv(f'{DATAROOT}product.csv.gz')\n",
    "items.columns = [col.lower() for col in items.columns]\n",
    "items.rename(columns={'product_id': 'item_id'}, inplace=True)\n",
    "\n",
    "users = pd.read_csv(f'{DATAROOT}demographic.csv.gz')\n",
    "users.columns = [col.lower() for col in users.columns]\n",
    "users.rename(columns={'household_key': 'user_id'}, inplace=True)"
   ]
  },
  {
   "cell_type": "markdown",
   "metadata": {},
   "source": [
    "## work"
   ]
  },
  {
   "cell_type": "code",
   "execution_count": 787,
   "metadata": {
    "ExecuteTime": {
     "end_time": "2020-06-20T14:13:22.919111Z",
     "start_time": "2020-06-20T14:13:22.910324Z"
    }
   },
   "outputs": [],
   "source": [
    "importlib.reload(src.utils)\n",
    "importlib.reload(src.recommenders)\n",
    "importlib.reload(src.metrics)\n",
    "from src.metrics import total_precision_at_N\n",
    "from src.utils import prefilter_items, prefilter_items2, postfilter_items, split_train_val\n",
    "from src.recommenders import RecommenderDataset, BaseRecommender, OwnRecommender, AlsRecommender"
   ]
  },
  {
   "cell_type": "code",
   "execution_count": 788,
   "metadata": {
    "ExecuteTime": {
     "end_time": "2020-06-20T14:13:27.994595Z",
     "start_time": "2020-06-20T14:13:23.356895Z"
    }
   },
   "outputs": [
    {
     "name": "stdout",
     "output_type": "stream",
     "text": [
      "Decreased amount of items from 83685 to 5001\n"
     ]
    }
   ],
   "source": [
    "importlib.reload(src.utils)\n",
    "from src.utils import prefilter_items, prefilter_items2, postfilter_items, split_train_val\n",
    "\n",
    "# делим на train / validate1 / validate2\n",
    "train, val1, val2 = split_train_val(data, 6, 3)\n",
    "\n",
    "# фильтруем items от ненужного и берем только 5000 (+1 на остальное)\n",
    "was = train.item_id.nunique()\n",
    "train = prefilter_items(train, price=(None, None), popular=(None, None), products=items, top_n=5000)\n",
    "\n",
    "print(f'Decreased amount of items from {was} to {train.item_id.nunique()}')"
   ]
  },
  {
   "cell_type": "code",
   "execution_count": 789,
   "metadata": {
    "ExecuteTime": {
     "end_time": "2020-06-20T14:13:33.228678Z",
     "start_time": "2020-06-20T14:13:28.000209Z"
    }
   },
   "outputs": [],
   "source": [
    "ds = RecommenderDataset(train)"
   ]
  },
  {
   "cell_type": "code",
   "execution_count": 790,
   "metadata": {
    "ExecuteTime": {
     "end_time": "2020-06-20T14:13:40.419563Z",
     "start_time": "2020-06-20T14:13:33.231279Z"
    }
   },
   "outputs": [
    {
     "data": {
      "application/vnd.jupyter.widget-view+json": {
       "model_id": "3ea06feaf57b4eb3a9d7f9f98a8da39f",
       "version_major": 2,
       "version_minor": 0
      },
      "text/plain": [
       "HBox(children=(FloatProgress(value=0.0, max=5001.0), HTML(value='')))"
      ]
     },
     "metadata": {},
     "output_type": "display_data"
    },
    {
     "name": "stdout",
     "output_type": "stream",
     "text": [
      "\n"
     ]
    },
    {
     "data": {
      "application/vnd.jupyter.widget-view+json": {
       "model_id": "61d9aa6cc404449991c949a1bfd4e299",
       "version_major": 2,
       "version_minor": 0
      },
      "text/plain": [
       "HBox(children=(FloatProgress(value=0.0, max=15.0), HTML(value='')))"
      ]
     },
     "metadata": {},
     "output_type": "display_data"
    },
    {
     "name": "stdout",
     "output_type": "stream",
     "text": [
      "\n"
     ]
    }
   ],
   "source": [
    "base = BaseRecommender(ds).fit()\n",
    "own = OwnRecommender(ds).fit()\n",
    "als = AlsRecommender(ds).fit()\n",
    "\n",
    "def estimate(res, N=5):\n",
    "    res['recommend_base'] = base.recommend(res.user_id, N)\n",
    "    res['recommend_own'] = own.recommend(res.user_id, N)\n",
    "    res['recommend_als'] = als.recommend(res.user_id, N)\n",
    "    res['recommend_als_similar_items'] = als.recommend(res.user_id, N, by='similarItems')\n",
    "    res['recommend_als_similar_users'] = als.recommend(res.user_id, N, by='similarUsers')\n",
    "\n",
    "    total = total_precision_at_N(res, N)\n",
    "    return total.describe().drop('user_id', axis=1).T.drop('count', axis=1).sort_values('mean', ascending=False)"
   ]
  },
  {
   "cell_type": "markdown",
   "metadata": {},
   "source": [
    "#### подсчет моделей на Train"
   ]
  },
  {
   "cell_type": "code",
   "execution_count": 791,
   "metadata": {
    "ExecuteTime": {
     "end_time": "2020-06-20T14:14:11.404692Z",
     "start_time": "2020-06-20T14:13:40.421914Z"
    }
   },
   "outputs": [
    {
     "data": {
      "text/html": [
       "<div>\n",
       "<style scoped>\n",
       "    .dataframe tbody tr th:only-of-type {\n",
       "        vertical-align: middle;\n",
       "    }\n",
       "\n",
       "    .dataframe tbody tr th {\n",
       "        vertical-align: top;\n",
       "    }\n",
       "\n",
       "    .dataframe thead th {\n",
       "        text-align: right;\n",
       "    }\n",
       "</style>\n",
       "<table border=\"1\" class=\"dataframe\">\n",
       "  <thead>\n",
       "    <tr style=\"text-align: right;\">\n",
       "      <th></th>\n",
       "      <th>mean</th>\n",
       "      <th>std</th>\n",
       "      <th>min</th>\n",
       "      <th>25%</th>\n",
       "      <th>50%</th>\n",
       "      <th>75%</th>\n",
       "      <th>max</th>\n",
       "    </tr>\n",
       "  </thead>\n",
       "  <tbody>\n",
       "    <tr>\n",
       "      <th>precision_base</th>\n",
       "      <td>0.985829</td>\n",
       "      <td>0.110951</td>\n",
       "      <td>0.0</td>\n",
       "      <td>1.0</td>\n",
       "      <td>1.0</td>\n",
       "      <td>1.0</td>\n",
       "      <td>1.0</td>\n",
       "    </tr>\n",
       "    <tr>\n",
       "      <th>precision_als_similar_users</th>\n",
       "      <td>0.546117</td>\n",
       "      <td>0.254072</td>\n",
       "      <td>0.0</td>\n",
       "      <td>0.4</td>\n",
       "      <td>0.6</td>\n",
       "      <td>0.8</td>\n",
       "      <td>1.0</td>\n",
       "    </tr>\n",
       "    <tr>\n",
       "      <th>precision_als_similar_items</th>\n",
       "      <td>0.411689</td>\n",
       "      <td>0.277568</td>\n",
       "      <td>0.0</td>\n",
       "      <td>0.2</td>\n",
       "      <td>0.4</td>\n",
       "      <td>0.6</td>\n",
       "      <td>1.0</td>\n",
       "    </tr>\n",
       "    <tr>\n",
       "      <th>precision_als</th>\n",
       "      <td>0.256845</td>\n",
       "      <td>0.273344</td>\n",
       "      <td>0.0</td>\n",
       "      <td>0.0</td>\n",
       "      <td>0.2</td>\n",
       "      <td>0.4</td>\n",
       "      <td>1.0</td>\n",
       "    </tr>\n",
       "    <tr>\n",
       "      <th>precision_own</th>\n",
       "      <td>0.038191</td>\n",
       "      <td>0.090733</td>\n",
       "      <td>0.0</td>\n",
       "      <td>0.0</td>\n",
       "      <td>0.0</td>\n",
       "      <td>0.0</td>\n",
       "      <td>0.6</td>\n",
       "    </tr>\n",
       "  </tbody>\n",
       "</table>\n",
       "</div>"
      ],
      "text/plain": [
       "                                 mean       std  min  25%  50%  75%  max\n",
       "precision_base               0.985829  0.110951  0.0  1.0  1.0  1.0  1.0\n",
       "precision_als_similar_users  0.546117  0.254072  0.0  0.4  0.6  0.8  1.0\n",
       "precision_als_similar_items  0.411689  0.277568  0.0  0.2  0.4  0.6  1.0\n",
       "precision_als                0.256845  0.273344  0.0  0.0  0.2  0.4  1.0\n",
       "precision_own                0.038191  0.090733  0.0  0.0  0.0  0.0  0.6"
      ]
     },
     "execution_count": 791,
     "metadata": {},
     "output_type": "execute_result"
    }
   ],
   "source": [
    "res = train.groupby('user_id')['item_id'].unique().reset_index()\n",
    "res.columns=['user_id', 'actual']\n",
    "estimate(res)"
   ]
  },
  {
   "cell_type": "markdown",
   "metadata": {},
   "source": [
    "#### валидация моделей на Val-1"
   ]
  },
  {
   "cell_type": "code",
   "execution_count": 792,
   "metadata": {
    "ExecuteTime": {
     "end_time": "2020-06-20T14:14:39.273333Z",
     "start_time": "2020-06-20T14:14:11.407847Z"
    }
   },
   "outputs": [
    {
     "data": {
      "text/html": [
       "<div>\n",
       "<style scoped>\n",
       "    .dataframe tbody tr th:only-of-type {\n",
       "        vertical-align: middle;\n",
       "    }\n",
       "\n",
       "    .dataframe tbody tr th {\n",
       "        vertical-align: top;\n",
       "    }\n",
       "\n",
       "    .dataframe thead th {\n",
       "        text-align: right;\n",
       "    }\n",
       "</style>\n",
       "<table border=\"1\" class=\"dataframe\">\n",
       "  <thead>\n",
       "    <tr style=\"text-align: right;\">\n",
       "      <th></th>\n",
       "      <th>mean</th>\n",
       "      <th>std</th>\n",
       "      <th>min</th>\n",
       "      <th>25%</th>\n",
       "      <th>50%</th>\n",
       "      <th>75%</th>\n",
       "      <th>max</th>\n",
       "    </tr>\n",
       "  </thead>\n",
       "  <tbody>\n",
       "    <tr>\n",
       "      <th>precision_base</th>\n",
       "      <td>0.396657</td>\n",
       "      <td>0.321787</td>\n",
       "      <td>0.0</td>\n",
       "      <td>0.2</td>\n",
       "      <td>0.4</td>\n",
       "      <td>0.6</td>\n",
       "      <td>1.0</td>\n",
       "    </tr>\n",
       "    <tr>\n",
       "      <th>precision_als_similar_users</th>\n",
       "      <td>0.225070</td>\n",
       "      <td>0.200147</td>\n",
       "      <td>0.0</td>\n",
       "      <td>0.0</td>\n",
       "      <td>0.2</td>\n",
       "      <td>0.4</td>\n",
       "      <td>1.0</td>\n",
       "    </tr>\n",
       "    <tr>\n",
       "      <th>precision_als_similar_items</th>\n",
       "      <td>0.105850</td>\n",
       "      <td>0.159694</td>\n",
       "      <td>0.0</td>\n",
       "      <td>0.0</td>\n",
       "      <td>0.0</td>\n",
       "      <td>0.2</td>\n",
       "      <td>0.8</td>\n",
       "    </tr>\n",
       "    <tr>\n",
       "      <th>precision_als</th>\n",
       "      <td>0.067967</td>\n",
       "      <td>0.134330</td>\n",
       "      <td>0.0</td>\n",
       "      <td>0.0</td>\n",
       "      <td>0.0</td>\n",
       "      <td>0.2</td>\n",
       "      <td>1.0</td>\n",
       "    </tr>\n",
       "    <tr>\n",
       "      <th>precision_own</th>\n",
       "      <td>0.006407</td>\n",
       "      <td>0.037771</td>\n",
       "      <td>0.0</td>\n",
       "      <td>0.0</td>\n",
       "      <td>0.0</td>\n",
       "      <td>0.0</td>\n",
       "      <td>0.6</td>\n",
       "    </tr>\n",
       "  </tbody>\n",
       "</table>\n",
       "</div>"
      ],
      "text/plain": [
       "                                 mean       std  min  25%  50%  75%  max\n",
       "precision_base               0.396657  0.321787  0.0  0.2  0.4  0.6  1.0\n",
       "precision_als_similar_users  0.225070  0.200147  0.0  0.0  0.2  0.4  1.0\n",
       "precision_als_similar_items  0.105850  0.159694  0.0  0.0  0.0  0.2  0.8\n",
       "precision_als                0.067967  0.134330  0.0  0.0  0.0  0.2  1.0\n",
       "precision_own                0.006407  0.037771  0.0  0.0  0.0  0.0  0.6"
      ]
     },
     "execution_count": 792,
     "metadata": {},
     "output_type": "execute_result"
    }
   ],
   "source": [
    "res = val1.groupby('user_id')['item_id'].unique().reset_index()\n",
    "res.columns=['user_id', 'actual']\n",
    "estimate(res)"
   ]
  },
  {
   "cell_type": "code",
   "execution_count": null,
   "metadata": {},
   "outputs": [],
   "source": []
  },
  {
   "cell_type": "code",
   "execution_count": null,
   "metadata": {},
   "outputs": [],
   "source": []
  },
  {
   "cell_type": "code",
   "execution_count": null,
   "metadata": {},
   "outputs": [],
   "source": []
  },
  {
   "cell_type": "code",
   "execution_count": null,
   "metadata": {},
   "outputs": [],
   "source": []
  },
  {
   "cell_type": "code",
   "execution_count": null,
   "metadata": {},
   "outputs": [],
   "source": []
  },
  {
   "cell_type": "code",
   "execution_count": null,
   "metadata": {},
   "outputs": [],
   "source": []
  },
  {
   "cell_type": "code",
   "execution_count": null,
   "metadata": {},
   "outputs": [],
   "source": []
  },
  {
   "cell_type": "code",
   "execution_count": 771,
   "metadata": {
    "ExecuteTime": {
     "end_time": "2020-06-20T14:03:07.361453Z",
     "start_time": "2020-06-20T14:03:06.399168Z"
    }
   },
   "outputs": [],
   "source": [
    "# делим на train / validate1 / validate2\n",
    "train, val1, val2 = split_train_val(data, 6, 3)"
   ]
  },
  {
   "cell_type": "code",
   "execution_count": 786,
   "metadata": {
    "ExecuteTime": {
     "end_time": "2020-06-20T14:13:17.393915Z",
     "start_time": "2020-06-20T14:12:51.802116Z"
    }
   },
   "outputs": [
    {
     "name": "stdout",
     "output_type": "stream",
     "text": [
      "prefilter\n",
      "      item_id  user_id  price  quantity     weight\n",
      "2209   995242     1361   1.00     10226  36.126671\n",
      "2633  1029743     1285   2.49     11661  33.128850\n",
      "3418  1098066     1255   0.99      4456  30.008918\n",
      "90     826249     1236   0.99      4764  29.582790\n",
      "271    840361     1234   1.00      4179  29.167029\n",
      "...       ...      ...    ...       ...        ...\n",
      "1930   970890       45   0.62        65   1.000896\n",
      "3922  5565719       44   2.00        62   1.000310\n",
      "906    889989       43   2.00        88   1.000137\n",
      "2579  1024875       44   1.75        71   1.000000\n",
      "4652  9999999     2497   2.00   1060108   0.000000\n",
      "\n",
      "[5001 rows x 5 columns]\n",
      "dataset\n",
      "fit\n"
     ]
    },
    {
     "data": {
      "application/vnd.jupyter.widget-view+json": {
       "model_id": "e76caf86f239465383ab3f5e99587696",
       "version_major": 2,
       "version_minor": 0
      },
      "text/plain": [
       "HBox(children=(FloatProgress(value=0.0, max=5001.0), HTML(value='')))"
      ]
     },
     "metadata": {},
     "output_type": "display_data"
    },
    {
     "name": "stdout",
     "output_type": "stream",
     "text": [
      "\n"
     ]
    },
    {
     "data": {
      "application/vnd.jupyter.widget-view+json": {
       "model_id": "97b91304fc1f489cb2085725344b5dcf",
       "version_major": 2,
       "version_minor": 0
      },
      "text/plain": [
       "HBox(children=(FloatProgress(value=0.0, max=15.0), HTML(value='')))"
      ]
     },
     "metadata": {},
     "output_type": "display_data"
    },
    {
     "name": "stdout",
     "output_type": "stream",
     "text": [
      "\n",
      "predict\n"
     ]
    },
    {
     "data": {
      "text/html": [
       "<div>\n",
       "<style scoped>\n",
       "    .dataframe tbody tr th:only-of-type {\n",
       "        vertical-align: middle;\n",
       "    }\n",
       "\n",
       "    .dataframe tbody tr th {\n",
       "        vertical-align: top;\n",
       "    }\n",
       "\n",
       "    .dataframe thead th {\n",
       "        text-align: right;\n",
       "    }\n",
       "</style>\n",
       "<table border=\"1\" class=\"dataframe\">\n",
       "  <thead>\n",
       "    <tr style=\"text-align: right;\">\n",
       "      <th></th>\n",
       "      <th>mean</th>\n",
       "      <th>std</th>\n",
       "      <th>min</th>\n",
       "      <th>25%</th>\n",
       "      <th>50%</th>\n",
       "      <th>75%</th>\n",
       "      <th>max</th>\n",
       "    </tr>\n",
       "  </thead>\n",
       "  <tbody>\n",
       "    <tr>\n",
       "      <th>precision_base</th>\n",
       "      <td>0.396657</td>\n",
       "      <td>0.321787</td>\n",
       "      <td>0.0</td>\n",
       "      <td>0.2</td>\n",
       "      <td>0.4</td>\n",
       "      <td>0.6</td>\n",
       "      <td>1.0</td>\n",
       "    </tr>\n",
       "    <tr>\n",
       "      <th>precision_als_similar_users</th>\n",
       "      <td>0.225070</td>\n",
       "      <td>0.200147</td>\n",
       "      <td>0.0</td>\n",
       "      <td>0.0</td>\n",
       "      <td>0.2</td>\n",
       "      <td>0.4</td>\n",
       "      <td>1.0</td>\n",
       "    </tr>\n",
       "  </tbody>\n",
       "</table>\n",
       "</div>"
      ],
      "text/plain": [
       "                                 mean       std  min  25%  50%  75%  max\n",
       "precision_base               0.396657  0.321787  0.0  0.2  0.4  0.6  1.0\n",
       "precision_als_similar_users  0.225070  0.200147  0.0  0.0  0.2  0.4  1.0"
      ]
     },
     "execution_count": 786,
     "metadata": {},
     "output_type": "execute_result"
    }
   ],
   "source": [
    "importlib.reload(src.utils)\n",
    "from src.utils import prefilter_items, prefilter_items2, postfilter_items, split_train_val\n",
    "\n",
    "print('prefilter')\n",
    "df = prefilter_items(train, price=(None, None), popular=(None, None), products=items, top_n=5000)\n",
    "# df = prefilter_items2(train)\n",
    "\n",
    "print(df.groupby('item_id').agg({\n",
    "                            'user_id': 'nunique',\n",
    "                            'price': 'median',\n",
    "                            'quantity': 'count',\n",
    "                            'weight': 'mean',\n",
    "                        }).reset_index().sort_values('weight', ascending=False))\n",
    "\n",
    "\n",
    "print('dataset')\n",
    "ds = RecommenderDataset(df)\n",
    "# ds = RecommenderDataset(df, values='quantity', aggfunc='count')\n",
    "\n",
    "print('fit')\n",
    "base = BaseRecommender(ds).fit()\n",
    "own = OwnRecommender(ds).fit()\n",
    "als = AlsRecommender(ds).fit()\n",
    "\n",
    "def estimate(res, N=5):\n",
    "    res['recommend_base'] = base.recommend(res.user_id, N)\n",
    "#     res['recommend_own'] = own.recommend(res.user_id, N)\n",
    "#     res['recommend_als'] = als.recommend(res.user_id, N)\n",
    "#     res['recommend_als_similar_items'] = als.recommend(res.user_id, N, by='similarItems')\n",
    "    res['recommend_als_similar_users'] = als.recommend(res.user_id, N, by='similarUsers')\n",
    "\n",
    "    total = total_precision_at_N(res, N)\n",
    "    return total.describe().drop('user_id', axis=1).T.drop('count', axis=1).sort_values('mean', ascending=False)\n",
    "\n",
    "print('predict')\n",
    "res = val1.groupby('user_id')['item_id'].unique().reset_index()\n",
    "res.columns=['user_id', 'actual']\n",
    "estimate(res)"
   ]
  },
  {
   "cell_type": "code",
   "execution_count": null,
   "metadata": {},
   "outputs": [],
   "source": []
  },
  {
   "cell_type": "code",
   "execution_count": null,
   "metadata": {},
   "outputs": [],
   "source": []
  },
  {
   "cell_type": "code",
   "execution_count": null,
   "metadata": {},
   "outputs": [],
   "source": []
  },
  {
   "cell_type": "code",
   "execution_count": null,
   "metadata": {},
   "outputs": [],
   "source": []
  },
  {
   "cell_type": "code",
   "execution_count": null,
   "metadata": {},
   "outputs": [],
   "source": []
  },
  {
   "cell_type": "code",
   "execution_count": null,
   "metadata": {},
   "outputs": [],
   "source": []
  },
  {
   "cell_type": "code",
   "execution_count": null,
   "metadata": {},
   "outputs": [],
   "source": []
  },
  {
   "cell_type": "code",
   "execution_count": 576,
   "metadata": {
    "ExecuteTime": {
     "end_time": "2020-06-20T12:11:04.005741Z",
     "start_time": "2020-06-20T12:10:12.649442Z"
    }
   },
   "outputs": [
    {
     "data": {
      "text/html": [
       "<div>\n",
       "<style scoped>\n",
       "    .dataframe tbody tr th:only-of-type {\n",
       "        vertical-align: middle;\n",
       "    }\n",
       "\n",
       "    .dataframe tbody tr th {\n",
       "        vertical-align: top;\n",
       "    }\n",
       "\n",
       "    .dataframe thead th {\n",
       "        text-align: right;\n",
       "    }\n",
       "</style>\n",
       "<table border=\"1\" class=\"dataframe\">\n",
       "  <thead>\n",
       "    <tr style=\"text-align: right;\">\n",
       "      <th></th>\n",
       "      <th>mean</th>\n",
       "      <th>std</th>\n",
       "      <th>min</th>\n",
       "      <th>25%</th>\n",
       "      <th>50%</th>\n",
       "      <th>75%</th>\n",
       "      <th>max</th>\n",
       "    </tr>\n",
       "  </thead>\n",
       "  <tbody>\n",
       "    <tr>\n",
       "      <th>precision_base</th>\n",
       "      <td>0.353668</td>\n",
       "      <td>0.309965</td>\n",
       "      <td>0.0</td>\n",
       "      <td>0.0</td>\n",
       "      <td>0.4</td>\n",
       "      <td>0.6</td>\n",
       "      <td>1.0</td>\n",
       "    </tr>\n",
       "    <tr>\n",
       "      <th>precision_als_similar_users</th>\n",
       "      <td>0.169359</td>\n",
       "      <td>0.181619</td>\n",
       "      <td>0.0</td>\n",
       "      <td>0.0</td>\n",
       "      <td>0.2</td>\n",
       "      <td>0.2</td>\n",
       "      <td>1.0</td>\n",
       "    </tr>\n",
       "    <tr>\n",
       "      <th>precision_own</th>\n",
       "      <td>0.118663</td>\n",
       "      <td>0.171426</td>\n",
       "      <td>0.0</td>\n",
       "      <td>0.0</td>\n",
       "      <td>0.0</td>\n",
       "      <td>0.2</td>\n",
       "      <td>0.8</td>\n",
       "    </tr>\n",
       "    <tr>\n",
       "      <th>precision_als_similar_items</th>\n",
       "      <td>0.100000</td>\n",
       "      <td>0.156156</td>\n",
       "      <td>0.0</td>\n",
       "      <td>0.0</td>\n",
       "      <td>0.0</td>\n",
       "      <td>0.2</td>\n",
       "      <td>1.0</td>\n",
       "    </tr>\n",
       "    <tr>\n",
       "      <th>precision_als</th>\n",
       "      <td>0.021541</td>\n",
       "      <td>0.067469</td>\n",
       "      <td>0.0</td>\n",
       "      <td>0.0</td>\n",
       "      <td>0.0</td>\n",
       "      <td>0.0</td>\n",
       "      <td>0.6</td>\n",
       "    </tr>\n",
       "  </tbody>\n",
       "</table>\n",
       "</div>"
      ],
      "text/plain": [
       "                                 mean       std  min  25%  50%  75%  max\n",
       "precision_base               0.353668  0.309965  0.0  0.0  0.4  0.6  1.0\n",
       "precision_als_similar_users  0.169359  0.181619  0.0  0.0  0.2  0.2  1.0\n",
       "precision_own                0.118663  0.171426  0.0  0.0  0.0  0.2  0.8\n",
       "precision_als_similar_items  0.100000  0.156156  0.0  0.0  0.0  0.2  1.0\n",
       "precision_als                0.021541  0.067469  0.0  0.0  0.0  0.0  0.6"
      ]
     },
     "execution_count": 576,
     "metadata": {},
     "output_type": "execute_result"
    }
   ],
   "source": [
    "res = val1.groupby('user_id')['item_id'].unique().reset_index()\n",
    "res.columns=['user_id', 'actual']\n",
    "estimate(res)"
   ]
  },
  {
   "cell_type": "code",
   "execution_count": null,
   "metadata": {},
   "outputs": [],
   "source": []
  }
 ],
 "metadata": {
  "kernelspec": {
   "display_name": "Python 3",
   "language": "python",
   "name": "python3"
  },
  "language_info": {
   "codemirror_mode": {
    "name": "ipython",
    "version": 3
   },
   "file_extension": ".py",
   "mimetype": "text/x-python",
   "name": "python",
   "nbconvert_exporter": "python",
   "pygments_lexer": "ipython3",
   "version": "3.7.1"
  },
  "toc": {
   "base_numbering": 1,
   "nav_menu": {},
   "number_sections": true,
   "sideBar": true,
   "skip_h1_title": false,
   "title_cell": "Table of Contents",
   "title_sidebar": "Contents",
   "toc_cell": false,
   "toc_position": {},
   "toc_section_display": true,
   "toc_window_display": false
  }
 },
 "nbformat": 4,
 "nbformat_minor": 2
}
