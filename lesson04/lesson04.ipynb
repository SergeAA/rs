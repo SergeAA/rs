{
 "cells": [
  {
   "cell_type": "markdown",
   "metadata": {},
   "source": [
    "# ДЗ №4"
   ]
  },
  {
   "cell_type": "markdown",
   "metadata": {},
   "source": [
    "1. Перенесите метрики в модуль src.metrics.py\n",
    "2. Перенесите функцию prefilter_items в модуль src.utils.py\n",
    "3. Создайте модуль src.recommenders.py. Напищите код для класса ниже \n",
    "(задание обсуждали на вебинаре, для первой функции практически сделали) и положите его в src.recommenders.py\n",
    "4. Проверьте, что все модули корректно импортируются"
   ]
  },
  {
   "cell_type": "code",
   "execution_count": 355,
   "metadata": {
    "ExecuteTime": {
     "end_time": "2020-06-01T12:57:22.260116Z",
     "start_time": "2020-06-01T12:57:22.254679Z"
    }
   },
   "outputs": [],
   "source": [
    "import os, sys\n",
    "\n",
    "module_path = os.path.abspath(os.path.join(os.pardir))\n",
    "if module_path not in sys.path:\n",
    "    sys.path.append(module_path)\n",
    "\n",
    "from src.dataset import load_data\n",
    "from src.metrics import precision_at_k, recall_at_k\n",
    "from src.utils import prefilter_items\n",
    "from src.recommenders import MainRecommender"
   ]
  },
  {
   "cell_type": "code",
   "execution_count": 356,
   "metadata": {
    "ExecuteTime": {
     "end_time": "2020-06-01T12:57:26.849615Z",
     "start_time": "2020-06-01T12:57:22.775807Z"
    }
   },
   "outputs": [],
   "source": [
    "train, test, product, baseline = load_data()"
   ]
  },
  {
   "cell_type": "code",
   "execution_count": 357,
   "metadata": {
    "ExecuteTime": {
     "end_time": "2020-06-01T12:57:26.905477Z",
     "start_time": "2020-06-01T12:57:26.852997Z"
    }
   },
   "outputs": [],
   "source": [
    "# найдем категории в которых есть продукты данного магазина\n",
    "pcats = product[product['brand'] == 'Private'].groupby('department')['item_id'].nunique()\n",
    "pcats = pcats[pcats>100]\n",
    "pcats = product[product['department'].isin(pcats.index)]"
   ]
  },
  {
   "cell_type": "code",
   "execution_count": 358,
   "metadata": {
    "ExecuteTime": {
     "end_time": "2020-06-01T12:57:33.966715Z",
     "start_time": "2020-06-01T12:57:29.881587Z"
    }
   },
   "outputs": [
    {
     "name": "stdout",
     "output_type": "stream",
     "text": [
      "Decreased # items from 86865 to 5001\n"
     ]
    }
   ],
   "source": [
    "n_items_before = train['item_id'].nunique()\n",
    "\n",
    "data_train = prefilter_items(train, product_filter=pcats, top_n=5000)\n",
    "\n",
    "n_items_after = data_train['item_id'].nunique()\n",
    "print('Decreased # items from {} to {}'.format(n_items_before, n_items_after))"
   ]
  },
  {
   "cell_type": "code",
   "execution_count": 348,
   "metadata": {
    "ExecuteTime": {
     "end_time": "2020-06-01T12:52:43.668316Z",
     "start_time": "2020-06-01T12:52:28.054249Z"
    }
   },
   "outputs": [
    {
     "data": {
      "application/vnd.jupyter.widget-view+json": {
       "model_id": "2bf7d6ebc23f48db8215aed8802fd6dc",
       "version_major": 2,
       "version_minor": 0
      },
      "text/plain": [
       "HBox(children=(FloatProgress(value=0.0, max=15.0), HTML(value='')))"
      ]
     },
     "metadata": {},
     "output_type": "display_data"
    },
    {
     "name": "stdout",
     "output_type": "stream",
     "text": [
      "\n"
     ]
    },
    {
     "data": {
      "application/vnd.jupyter.widget-view+json": {
       "model_id": "4b9f11e3a853496fba2b3e804f35409a",
       "version_major": 2,
       "version_minor": 0
      },
      "text/plain": [
       "HBox(children=(FloatProgress(value=0.0, max=5001.0), HTML(value='')))"
      ]
     },
     "metadata": {},
     "output_type": "display_data"
    },
    {
     "name": "stdout",
     "output_type": "stream",
     "text": [
      "\n"
     ]
    }
   ],
   "source": [
    "mr = MainRecommender(data_train)"
   ]
  },
  {
   "cell_type": "code",
   "execution_count": 359,
   "metadata": {
    "ExecuteTime": {
     "end_time": "2020-06-01T12:59:21.066614Z",
     "start_time": "2020-06-01T12:59:20.748820Z"
    }
   },
   "outputs": [
    {
     "data": {
      "text/plain": [
       "[5569471, 1058997, 862349, 1070820, 893501]"
      ]
     },
     "execution_count": 359,
     "metadata": {},
     "output_type": "execute_result"
    }
   ],
   "source": [
    "mr.get_similar_users_recommendation(2500)"
   ]
  },
  {
   "cell_type": "code",
   "execution_count": 360,
   "metadata": {
    "ExecuteTime": {
     "end_time": "2020-06-01T13:00:00.760264Z",
     "start_time": "2020-06-01T12:59:24.252202Z"
    }
   },
   "outputs": [],
   "source": [
    "baseline['mainrecommender'] = baseline['user_id'].apply(lambda x: mr.get_recommendations(x))"
   ]
  },
  {
   "cell_type": "code",
   "execution_count": 361,
   "metadata": {
    "ExecuteTime": {
     "end_time": "2020-06-01T13:00:53.776012Z",
     "start_time": "2020-06-01T13:00:00.764577Z"
    }
   },
   "outputs": [],
   "source": [
    "baseline['similar_users'] = baseline['user_id'].apply(lambda x: mr.get_similar_users_recommendation(x))"
   ]
  },
  {
   "cell_type": "code",
   "execution_count": 362,
   "metadata": {
    "ExecuteTime": {
     "end_time": "2020-06-01T13:01:15.368556Z",
     "start_time": "2020-06-01T13:00:53.795734Z"
    }
   },
   "outputs": [
    {
     "data": {
      "text/html": [
       "<div>\n",
       "<style scoped>\n",
       "    .dataframe tbody tr th:only-of-type {\n",
       "        vertical-align: middle;\n",
       "    }\n",
       "\n",
       "    .dataframe tbody tr th {\n",
       "        vertical-align: top;\n",
       "    }\n",
       "\n",
       "    .dataframe thead th {\n",
       "        text-align: right;\n",
       "    }\n",
       "</style>\n",
       "<table border=\"1\" class=\"dataframe\">\n",
       "  <thead>\n",
       "    <tr style=\"text-align: right;\">\n",
       "      <th></th>\n",
       "      <th>count</th>\n",
       "      <th>mean</th>\n",
       "      <th>std</th>\n",
       "      <th>min</th>\n",
       "      <th>25%</th>\n",
       "      <th>50%</th>\n",
       "      <th>75%</th>\n",
       "      <th>max</th>\n",
       "    </tr>\n",
       "  </thead>\n",
       "  <tbody>\n",
       "    <tr>\n",
       "      <th>user_id</th>\n",
       "      <td>2042.0</td>\n",
       "      <td>1257.930950</td>\n",
       "      <td>718.052041</td>\n",
       "      <td>1.0</td>\n",
       "      <td>648.5</td>\n",
       "      <td>1260.5</td>\n",
       "      <td>1879.75</td>\n",
       "      <td>2500.0</td>\n",
       "    </tr>\n",
       "    <tr>\n",
       "      <th>precision_random_recommendation</th>\n",
       "      <td>2042.0</td>\n",
       "      <td>0.000588</td>\n",
       "      <td>0.010828</td>\n",
       "      <td>0.0</td>\n",
       "      <td>0.0</td>\n",
       "      <td>0.0</td>\n",
       "      <td>0.00</td>\n",
       "      <td>0.2</td>\n",
       "    </tr>\n",
       "    <tr>\n",
       "      <th>precision_popular_recommendation</th>\n",
       "      <td>2042.0</td>\n",
       "      <td>0.155240</td>\n",
       "      <td>0.174668</td>\n",
       "      <td>0.0</td>\n",
       "      <td>0.0</td>\n",
       "      <td>0.2</td>\n",
       "      <td>0.20</td>\n",
       "      <td>0.8</td>\n",
       "    </tr>\n",
       "    <tr>\n",
       "      <th>precision_itemitem</th>\n",
       "      <td>2042.0</td>\n",
       "      <td>0.033595</td>\n",
       "      <td>0.085772</td>\n",
       "      <td>0.0</td>\n",
       "      <td>0.0</td>\n",
       "      <td>0.0</td>\n",
       "      <td>0.00</td>\n",
       "      <td>0.6</td>\n",
       "    </tr>\n",
       "    <tr>\n",
       "      <th>precision_cosine</th>\n",
       "      <td>2042.0</td>\n",
       "      <td>0.035260</td>\n",
       "      <td>0.087261</td>\n",
       "      <td>0.0</td>\n",
       "      <td>0.0</td>\n",
       "      <td>0.0</td>\n",
       "      <td>0.00</td>\n",
       "      <td>0.6</td>\n",
       "    </tr>\n",
       "    <tr>\n",
       "      <th>precision_tfidf</th>\n",
       "      <td>2042.0</td>\n",
       "      <td>0.036141</td>\n",
       "      <td>0.087462</td>\n",
       "      <td>0.0</td>\n",
       "      <td>0.0</td>\n",
       "      <td>0.0</td>\n",
       "      <td>0.00</td>\n",
       "      <td>0.6</td>\n",
       "    </tr>\n",
       "    <tr>\n",
       "      <th>precision_own_purchases</th>\n",
       "      <td>2042.0</td>\n",
       "      <td>0.179628</td>\n",
       "      <td>0.189525</td>\n",
       "      <td>0.0</td>\n",
       "      <td>0.0</td>\n",
       "      <td>0.2</td>\n",
       "      <td>0.20</td>\n",
       "      <td>0.8</td>\n",
       "    </tr>\n",
       "    <tr>\n",
       "      <th>precision_mainrecommender</th>\n",
       "      <td>2042.0</td>\n",
       "      <td>0.127228</td>\n",
       "      <td>0.179752</td>\n",
       "      <td>0.0</td>\n",
       "      <td>0.0</td>\n",
       "      <td>0.0</td>\n",
       "      <td>0.20</td>\n",
       "      <td>1.0</td>\n",
       "    </tr>\n",
       "    <tr>\n",
       "      <th>precision_similar_users</th>\n",
       "      <td>2042.0</td>\n",
       "      <td>0.089520</td>\n",
       "      <td>0.144600</td>\n",
       "      <td>0.0</td>\n",
       "      <td>0.0</td>\n",
       "      <td>0.0</td>\n",
       "      <td>0.20</td>\n",
       "      <td>0.8</td>\n",
       "    </tr>\n",
       "  </tbody>\n",
       "</table>\n",
       "</div>"
      ],
      "text/plain": [
       "                                   count         mean         std  min    25%  \\\n",
       "user_id                           2042.0  1257.930950  718.052041  1.0  648.5   \n",
       "precision_random_recommendation   2042.0     0.000588    0.010828  0.0    0.0   \n",
       "precision_popular_recommendation  2042.0     0.155240    0.174668  0.0    0.0   \n",
       "precision_itemitem                2042.0     0.033595    0.085772  0.0    0.0   \n",
       "precision_cosine                  2042.0     0.035260    0.087261  0.0    0.0   \n",
       "precision_tfidf                   2042.0     0.036141    0.087462  0.0    0.0   \n",
       "precision_own_purchases           2042.0     0.179628    0.189525  0.0    0.0   \n",
       "precision_mainrecommender         2042.0     0.127228    0.179752  0.0    0.0   \n",
       "precision_similar_users           2042.0     0.089520    0.144600  0.0    0.0   \n",
       "\n",
       "                                     50%      75%     max  \n",
       "user_id                           1260.5  1879.75  2500.0  \n",
       "precision_random_recommendation      0.0     0.00     0.2  \n",
       "precision_popular_recommendation     0.2     0.20     0.8  \n",
       "precision_itemitem                   0.0     0.00     0.6  \n",
       "precision_cosine                     0.0     0.00     0.6  \n",
       "precision_tfidf                      0.0     0.00     0.6  \n",
       "precision_own_purchases              0.2     0.20     0.8  \n",
       "precision_mainrecommender            0.0     0.20     1.0  \n",
       "precision_similar_users              0.0     0.20     0.8  "
      ]
     },
     "execution_count": 362,
     "metadata": {},
     "output_type": "execute_result"
    }
   ],
   "source": [
    "def compare_precision_at_5(row):\n",
    "    flds = ['random_recommendation', 'popular_recommendation', 'itemitem', 'cosine', \n",
    "            'tfidf', 'own_purchases', 'mainrecommender', 'similar_users']\n",
    "    for i in flds:\n",
    "        row[f'precision_{i}'] = len(set(row[i]) & set(row['actual'])) / 5\n",
    "    return row\n",
    "\n",
    "precision = baseline.apply(lambda row: compare_precision_at_5(row), axis=1)\n",
    "precision.describe().T"
   ]
  }
 ],
 "metadata": {
  "kernelspec": {
   "display_name": "Python 3",
   "language": "python",
   "name": "python3"
  },
  "language_info": {
   "codemirror_mode": {
    "name": "ipython",
    "version": 3
   },
   "file_extension": ".py",
   "mimetype": "text/x-python",
   "name": "python",
   "nbconvert_exporter": "python",
   "pygments_lexer": "ipython3",
   "version": "3.7.1"
  },
  "toc": {
   "base_numbering": 1,
   "nav_menu": {},
   "number_sections": true,
   "sideBar": true,
   "skip_h1_title": false,
   "title_cell": "Table of Contents",
   "title_sidebar": "Contents",
   "toc_cell": false,
   "toc_position": {},
   "toc_section_display": true,
   "toc_window_display": false
  }
 },
 "nbformat": 4,
 "nbformat_minor": 2
}
