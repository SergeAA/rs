{
 "cells": [
  {
   "cell_type": "markdown",
   "metadata": {},
   "source": [
    "# ДЗ №4"
   ]
  },
  {
   "cell_type": "markdown",
   "metadata": {},
   "source": [
    "1. Перенесите метрики в модуль src.metrics.py\n",
    "2. Перенесите функцию prefilter_items в модуль src.utils.py\n",
    "3. Создайте модуль src.recommenders.py. Напищите код для класса ниже \n",
    "(задание обсуждали на вебинаре, для первой функции практически сделали) и положите его в src.recommenders.py\n",
    "4. Проверьте, что все модули корректно импортируются"
   ]
  },
  {
   "cell_type": "code",
   "execution_count": 278,
   "metadata": {
    "ExecuteTime": {
     "end_time": "2020-06-01T11:54:48.728452Z",
     "start_time": "2020-06-01T11:54:48.667935Z"
    }
   },
   "outputs": [],
   "source": [
    "import importlib\n",
    "importlib.reload(src.metrics)\n",
    "importlib.reload(src.utils)\n",
    "importlib.reload(src.recommenders)\n",
    "importlib.reload(src.dataset)\n",
    "pass"
   ]
  },
  {
   "cell_type": "code",
   "execution_count": 279,
   "metadata": {
    "ExecuteTime": {
     "end_time": "2020-06-01T11:54:48.872920Z",
     "start_time": "2020-06-01T11:54:48.864534Z"
    }
   },
   "outputs": [],
   "source": [
    "import os, sys\n",
    "\n",
    "module_path = os.path.abspath(os.path.join(os.pardir))\n",
    "if module_path not in sys.path:\n",
    "    sys.path.append(module_path)\n",
    "\n",
    "from src.dataset import load_data\n",
    "from src.metrics import precision_at_k, recall_at_k\n",
    "from src.utils import prefilter_items\n",
    "from src.recommenders import MainRecommender"
   ]
  },
  {
   "cell_type": "code",
   "execution_count": 55,
   "metadata": {
    "ExecuteTime": {
     "end_time": "2020-06-01T07:05:10.800008Z",
     "start_time": "2020-06-01T07:05:06.390828Z"
    }
   },
   "outputs": [],
   "source": [
    "train, test, product, baseline = load_data()"
   ]
  },
  {
   "cell_type": "code",
   "execution_count": 213,
   "metadata": {
    "ExecuteTime": {
     "end_time": "2020-06-01T10:59:14.161111Z",
     "start_time": "2020-06-01T10:59:14.076379Z"
    }
   },
   "outputs": [],
   "source": [
    "# найдем категории в которых есть продукты данного магазина\n",
    "pcats = product[product['brand'] == 'Private'].groupby('department')['item_id'].nunique()\n",
    "pcats = pcats[pcats>100]\n",
    "pcats = product[product['department'].isin(pcats.index)]"
   ]
  },
  {
   "cell_type": "code",
   "execution_count": 280,
   "metadata": {
    "ExecuteTime": {
     "end_time": "2020-06-01T11:54:57.493399Z",
     "start_time": "2020-06-01T11:54:52.839551Z"
    }
   },
   "outputs": [
    {
     "name": "stdout",
     "output_type": "stream",
     "text": [
      "Decreased # items from 86865 to 5001\n"
     ]
    }
   ],
   "source": [
    "n_items_before = train['item_id'].nunique()\n",
    "\n",
    "data_train = prefilter_items(train, product_filter=pcats, top_n=5000)\n",
    "\n",
    "n_items_after = data_train['item_id'].nunique()\n",
    "print('Decreased # items from {} to {}'.format(n_items_before, n_items_after))"
   ]
  },
  {
   "cell_type": "code",
   "execution_count": 347,
   "metadata": {
    "ExecuteTime": {
     "end_time": "2020-06-01T12:52:27.689760Z",
     "start_time": "2020-06-01T12:52:27.658838Z"
    }
   },
   "outputs": [],
   "source": [
    "import pandas as pd\n",
    "import numpy as np\n",
    "\n",
    "# Для работы с матрицами\n",
    "from scipy.sparse import csr_matrix\n",
    "\n",
    "# Матричная факторизация\n",
    "from implicit.als import AlternatingLeastSquares\n",
    "from implicit.nearest_neighbours import ItemItemRecommender  # нужен для одного трюка\n",
    "from implicit.nearest_neighbours import bm25_weight, tfidf_weight\n",
    "\n",
    "\n",
    "class MR:\n",
    "    \"\"\"Рекоммендации, которые можно получить из ALS\n",
    "\n",
    "    Input\n",
    "    -----\n",
    "    user_item_matrix: pd.DataFrame\n",
    "        Матрица взаимодействий user-item\n",
    "    \"\"\"\n",
    "\n",
    "    def __init__(self, data, weighting=True):\n",
    "\n",
    "        # your_code. Это не обязательная часть. Но если вам удобно что-либо посчитать тут - можно это сделать\n",
    "\n",
    "        self.data = data\n",
    "        self.user_item_matrix = self.prepare_matrix(data)  # pd.DataFrame\n",
    "        self.user_top = self.top_user_actual(data)\n",
    "        \n",
    "        self.id_to_itemid, self.id_to_userid, \\\n",
    "            self.itemid_to_id, self.userid_to_id = self.prepare_dicts(self.user_item_matrix)\n",
    "\n",
    "        if weighting:\n",
    "            self.user_item_matrix = bm25_weight(self.user_item_matrix.T).T\n",
    "\n",
    "        self.model = self.fit(self.user_item_matrix)\n",
    "        self.own_recommender = self.fit_own_recommender(self.user_item_matrix)\n",
    "\n",
    "    @staticmethod\n",
    "    def top_user_actual(data):\n",
    "        popularity = data.groupby(['user_id', 'item_id'])['quantity'].count().reset_index()\n",
    "        popularity.sort_values('quantity', ascending=False, inplace=True)\n",
    "\n",
    "        popularity = popularity[popularity['item_id'] != 999999]\n",
    "        popularity = popularity.groupby('user_id').head(5)\n",
    "\n",
    "        popularity.sort_values('user_id', ascending=False, inplace=True)\n",
    "        return popularity\n",
    "\n",
    "    @staticmethod\n",
    "    def prepare_matrix(data):\n",
    "        return pd.pivot_table(data, \n",
    "                              index='user_id', columns='item_id', \n",
    "#                               values='quantity', aggfunc='count', \n",
    "                              values='weight', aggfunc='mean', \n",
    "                              fill_value=0).astype(float)\n",
    "\n",
    "    @staticmethod\n",
    "    def prepare_dicts(user_item_matrix):\n",
    "        \"\"\"Подготавливает вспомогательные словари\"\"\"\n",
    "\n",
    "        userids = user_item_matrix.index.values\n",
    "        itemids = user_item_matrix.columns.values\n",
    "\n",
    "        matrix_userids = np.arange(len(userids))\n",
    "        matrix_itemids = np.arange(len(itemids))\n",
    "\n",
    "        id_to_itemid = dict(zip(matrix_itemids, itemids))\n",
    "        id_to_userid = dict(zip(matrix_userids, userids))\n",
    "\n",
    "        itemid_to_id = dict(zip(itemids, matrix_itemids))\n",
    "        userid_to_id = dict(zip(userids, matrix_userids))\n",
    "\n",
    "        return id_to_itemid, id_to_userid, itemid_to_id, userid_to_id\n",
    "\n",
    "    @staticmethod\n",
    "    def fit_own_recommender(user_item_matrix):\n",
    "        \"\"\"Обучает модель, которая рекомендует товары, среди товаров, купленных юзером\"\"\"\n",
    "\n",
    "        own_recommender = ItemItemRecommender(K=1, num_threads=4)\n",
    "        own_recommender.fit(csr_matrix(user_item_matrix).T.tocsr())\n",
    "\n",
    "        return own_recommender\n",
    "\n",
    "    @staticmethod\n",
    "    def fit(user_item_matrix, n_factors=20, regularization=0.001, iterations=15, num_threads=4):\n",
    "        \"\"\"Обучает ALS\"\"\"\n",
    "\n",
    "        model = AlternatingLeastSquares(factors=n_factors,\n",
    "                                        regularization=regularization,\n",
    "                                        iterations=iterations,\n",
    "                                        num_threads=num_threads)\n",
    "        model.fit(csr_matrix(user_item_matrix).T.tocsr())\n",
    "\n",
    "        return model\n",
    "    \n",
    "    def get_recommendations(self, user, N=5):\n",
    "        res = [self.id_to_itemid[rec[0]] for rec in \n",
    "                        self.model.recommend(userid=self.userid_to_id[user], \n",
    "                                        user_items=csr_matrix(self.user_item_matrix).tocsr(),\n",
    "                                        N=N, \n",
    "                                        filter_already_liked_items=False, \n",
    "                                        filter_items=[self.itemid_to_id[999999]],\n",
    "                                        recalculate_user=True)]\n",
    "        return res    \n",
    "\n",
    "    def get_similar_items_recommendation(self, user, N=5):\n",
    "        \"\"\"Рекомендуем товары, похожие на топ-N купленных юзером товаров\"\"\"\n",
    "\n",
    "        def get_rec(x):\n",
    "            recs = self.model.similar_items(self.itemid_to_id[x], N=2)\n",
    "            top_rec = recs[1][0]\n",
    "            return self.id_to_itemid[top_rec]\n",
    "    \n",
    "        self.user_top['similar_recommendation'] = self.user_top['item_id'].apply(lambda x: get_rec(x))\n",
    "        res = self.user_top.groupby('user_id')['similar_recommendation'].unique().reset_index()\n",
    "        res.columns=['user_id', 'similar_recommendation']\n",
    "\n",
    "        return res\n",
    "\n",
    "    def get_similar_users_recommendation(self, user, N=5):\n",
    "        \"\"\"Рекомендуем топ-N товаров, среди купленных похожими юзерами\"\"\"\n",
    "\n",
    "        topusers = self.model.similar_users(self.userid_to_id[user], N=6)\n",
    "        topusers = [self.id_to_userid[i[0]] for i in topusers[1:]]\n",
    "        \n",
    "        data = self.data[self.data['user_id'].isin(topusers)]\n",
    "        data = data[data['item_id'] != 999999]\n",
    "        \n",
    "        popularity = data.groupby('item_id')['quantity'].count().reset_index()\n",
    "        popularity.sort_values('quantity', ascending=False, inplace=True)\n",
    "        return popularity.drop_duplicates('item_id').head(5).item_id.to_list()"
   ]
  },
  {
   "cell_type": "code",
   "execution_count": 348,
   "metadata": {
    "ExecuteTime": {
     "end_time": "2020-06-01T12:52:43.668316Z",
     "start_time": "2020-06-01T12:52:28.054249Z"
    }
   },
   "outputs": [
    {
     "data": {
      "application/vnd.jupyter.widget-view+json": {
       "model_id": "2bf7d6ebc23f48db8215aed8802fd6dc",
       "version_major": 2,
       "version_minor": 0
      },
      "text/plain": [
       "HBox(children=(FloatProgress(value=0.0, max=15.0), HTML(value='')))"
      ]
     },
     "metadata": {},
     "output_type": "display_data"
    },
    {
     "name": "stdout",
     "output_type": "stream",
     "text": [
      "\n"
     ]
    },
    {
     "data": {
      "application/vnd.jupyter.widget-view+json": {
       "model_id": "4b9f11e3a853496fba2b3e804f35409a",
       "version_major": 2,
       "version_minor": 0
      },
      "text/plain": [
       "HBox(children=(FloatProgress(value=0.0, max=5001.0), HTML(value='')))"
      ]
     },
     "metadata": {},
     "output_type": "display_data"
    },
    {
     "name": "stdout",
     "output_type": "stream",
     "text": [
      "\n"
     ]
    }
   ],
   "source": [
    "mr = MR(data_train)"
   ]
  },
  {
   "cell_type": "code",
   "execution_count": 349,
   "metadata": {
    "ExecuteTime": {
     "end_time": "2020-06-01T12:52:47.976508Z",
     "start_time": "2020-06-01T12:52:47.752611Z"
    }
   },
   "outputs": [
    {
     "data": {
      "text/plain": [
       "[5569471, 1058997, 862349, 1070820, 893501]"
      ]
     },
     "execution_count": 349,
     "metadata": {},
     "output_type": "execute_result"
    }
   ],
   "source": [
    "mr.get_similar_users_recommendation(2500)"
   ]
  },
  {
   "cell_type": "code",
   "execution_count": 299,
   "metadata": {
    "ExecuteTime": {
     "end_time": "2020-06-01T12:07:14.370351Z",
     "start_time": "2020-06-01T12:06:41.684668Z"
    }
   },
   "outputs": [],
   "source": [
    "baseline['mainrecommender'] = baseline['user_id'].apply(lambda x: mr.get_recommendations(x))"
   ]
  },
  {
   "cell_type": "code",
   "execution_count": null,
   "metadata": {
    "ExecuteTime": {
     "start_time": "2020-06-01T12:53:31.763Z"
    }
   },
   "outputs": [],
   "source": [
    "baseline['similar_users'] = baseline['user_id'].apply(lambda x: mr.get_similar_users_recommendation(x))"
   ]
  },
  {
   "cell_type": "code",
   "execution_count": 300,
   "metadata": {
    "ExecuteTime": {
     "end_time": "2020-06-01T12:07:29.681084Z",
     "start_time": "2020-06-01T12:07:14.372984Z"
    }
   },
   "outputs": [
    {
     "data": {
      "text/html": [
       "<div>\n",
       "<style scoped>\n",
       "    .dataframe tbody tr th:only-of-type {\n",
       "        vertical-align: middle;\n",
       "    }\n",
       "\n",
       "    .dataframe tbody tr th {\n",
       "        vertical-align: top;\n",
       "    }\n",
       "\n",
       "    .dataframe thead th {\n",
       "        text-align: right;\n",
       "    }\n",
       "</style>\n",
       "<table border=\"1\" class=\"dataframe\">\n",
       "  <thead>\n",
       "    <tr style=\"text-align: right;\">\n",
       "      <th></th>\n",
       "      <th>count</th>\n",
       "      <th>mean</th>\n",
       "      <th>std</th>\n",
       "      <th>min</th>\n",
       "      <th>25%</th>\n",
       "      <th>50%</th>\n",
       "      <th>75%</th>\n",
       "      <th>max</th>\n",
       "    </tr>\n",
       "  </thead>\n",
       "  <tbody>\n",
       "    <tr>\n",
       "      <th>user_id</th>\n",
       "      <td>2042.0</td>\n",
       "      <td>1257.930950</td>\n",
       "      <td>718.052041</td>\n",
       "      <td>1.0</td>\n",
       "      <td>648.5</td>\n",
       "      <td>1260.5</td>\n",
       "      <td>1879.75</td>\n",
       "      <td>2500.0</td>\n",
       "    </tr>\n",
       "    <tr>\n",
       "      <th>precision_random_recommendation</th>\n",
       "      <td>2042.0</td>\n",
       "      <td>0.000588</td>\n",
       "      <td>0.010828</td>\n",
       "      <td>0.0</td>\n",
       "      <td>0.0</td>\n",
       "      <td>0.0</td>\n",
       "      <td>0.00</td>\n",
       "      <td>0.2</td>\n",
       "    </tr>\n",
       "    <tr>\n",
       "      <th>precision_popular_recommendation</th>\n",
       "      <td>2042.0</td>\n",
       "      <td>0.155240</td>\n",
       "      <td>0.174668</td>\n",
       "      <td>0.0</td>\n",
       "      <td>0.0</td>\n",
       "      <td>0.2</td>\n",
       "      <td>0.20</td>\n",
       "      <td>0.8</td>\n",
       "    </tr>\n",
       "    <tr>\n",
       "      <th>precision_itemitem</th>\n",
       "      <td>2042.0</td>\n",
       "      <td>0.033595</td>\n",
       "      <td>0.085772</td>\n",
       "      <td>0.0</td>\n",
       "      <td>0.0</td>\n",
       "      <td>0.0</td>\n",
       "      <td>0.00</td>\n",
       "      <td>0.6</td>\n",
       "    </tr>\n",
       "    <tr>\n",
       "      <th>precision_cosine</th>\n",
       "      <td>2042.0</td>\n",
       "      <td>0.035260</td>\n",
       "      <td>0.087261</td>\n",
       "      <td>0.0</td>\n",
       "      <td>0.0</td>\n",
       "      <td>0.0</td>\n",
       "      <td>0.00</td>\n",
       "      <td>0.6</td>\n",
       "    </tr>\n",
       "    <tr>\n",
       "      <th>precision_tfidf</th>\n",
       "      <td>2042.0</td>\n",
       "      <td>0.036141</td>\n",
       "      <td>0.087462</td>\n",
       "      <td>0.0</td>\n",
       "      <td>0.0</td>\n",
       "      <td>0.0</td>\n",
       "      <td>0.00</td>\n",
       "      <td>0.6</td>\n",
       "    </tr>\n",
       "    <tr>\n",
       "      <th>precision_own_purchases</th>\n",
       "      <td>2042.0</td>\n",
       "      <td>0.179628</td>\n",
       "      <td>0.189525</td>\n",
       "      <td>0.0</td>\n",
       "      <td>0.0</td>\n",
       "      <td>0.2</td>\n",
       "      <td>0.20</td>\n",
       "      <td>0.8</td>\n",
       "    </tr>\n",
       "    <tr>\n",
       "      <th>precision_mainrecommender</th>\n",
       "      <td>2042.0</td>\n",
       "      <td>0.089814</td>\n",
       "      <td>0.151763</td>\n",
       "      <td>0.0</td>\n",
       "      <td>0.0</td>\n",
       "      <td>0.0</td>\n",
       "      <td>0.20</td>\n",
       "      <td>1.0</td>\n",
       "    </tr>\n",
       "  </tbody>\n",
       "</table>\n",
       "</div>"
      ],
      "text/plain": [
       "                                   count         mean         std  min    25%  \\\n",
       "user_id                           2042.0  1257.930950  718.052041  1.0  648.5   \n",
       "precision_random_recommendation   2042.0     0.000588    0.010828  0.0    0.0   \n",
       "precision_popular_recommendation  2042.0     0.155240    0.174668  0.0    0.0   \n",
       "precision_itemitem                2042.0     0.033595    0.085772  0.0    0.0   \n",
       "precision_cosine                  2042.0     0.035260    0.087261  0.0    0.0   \n",
       "precision_tfidf                   2042.0     0.036141    0.087462  0.0    0.0   \n",
       "precision_own_purchases           2042.0     0.179628    0.189525  0.0    0.0   \n",
       "precision_mainrecommender         2042.0     0.089814    0.151763  0.0    0.0   \n",
       "\n",
       "                                     50%      75%     max  \n",
       "user_id                           1260.5  1879.75  2500.0  \n",
       "precision_random_recommendation      0.0     0.00     0.2  \n",
       "precision_popular_recommendation     0.2     0.20     0.8  \n",
       "precision_itemitem                   0.0     0.00     0.6  \n",
       "precision_cosine                     0.0     0.00     0.6  \n",
       "precision_tfidf                      0.0     0.00     0.6  \n",
       "precision_own_purchases              0.2     0.20     0.8  \n",
       "precision_mainrecommender            0.0     0.20     1.0  "
      ]
     },
     "execution_count": 300,
     "metadata": {},
     "output_type": "execute_result"
    }
   ],
   "source": [
    "def compare_precision_at_5(row):\n",
    "    flds = ['random_recommendation', 'popular_recommendation', 'itemitem', 'cosine', \n",
    "            'tfidf', 'own_purchases', 'mainrecommender', similar_users]\n",
    "    for i in flds:\n",
    "        row[f'precision_{i}'] = len(set(row[i]) & set(row['actual'])) / 5\n",
    "    return row\n",
    "\n",
    "precision = baseline.apply(lambda row: compare_precision_at_5(row), axis=1)\n",
    "precision.describe().T"
   ]
  },
  {
   "cell_type": "code",
   "execution_count": 305,
   "metadata": {
    "ExecuteTime": {
     "end_time": "2020-06-01T12:10:54.374968Z",
     "start_time": "2020-06-01T12:10:54.368030Z"
    }
   },
   "outputs": [
    {
     "data": {
      "text/plain": [
       "[(1743, 0.04261237),\n",
       " (3399, 0.03666466),\n",
       " (3414, 0.036328178),\n",
       " (2291, 0.03613097),\n",
       " (815, 0.036103453)]"
      ]
     },
     "execution_count": 305,
     "metadata": {},
     "output_type": "execute_result"
    }
   ],
   "source": [
    "mr.model.similar_items(mr.itemid_to_id[960732], 5)"
   ]
  }
 ],
 "metadata": {
  "kernelspec": {
   "display_name": "Python 3",
   "language": "python",
   "name": "python3"
  },
  "language_info": {
   "codemirror_mode": {
    "name": "ipython",
    "version": 3
   },
   "file_extension": ".py",
   "mimetype": "text/x-python",
   "name": "python",
   "nbconvert_exporter": "python",
   "pygments_lexer": "ipython3",
   "version": "3.7.1"
  },
  "toc": {
   "base_numbering": 1,
   "nav_menu": {},
   "number_sections": true,
   "sideBar": true,
   "skip_h1_title": false,
   "title_cell": "Table of Contents",
   "title_sidebar": "Contents",
   "toc_cell": false,
   "toc_position": {},
   "toc_section_display": true,
   "toc_window_display": false
  }
 },
 "nbformat": 4,
 "nbformat_minor": 2
}
