{
 "cells": [
  {
   "cell_type": "markdown",
   "metadata": {},
   "source": [
    "# ДЗ №4"
   ]
  },
  {
   "cell_type": "markdown",
   "metadata": {},
   "source": [
    "1. Перенесите метрики в модуль src.metrics.py\n",
    "2. Перенесите функцию prefilter_items в модуль src.utils.py\n",
    "3. Создайте модуль src.recommenders.py. Напищите код для класса ниже \n",
    "(задание обсуждали на вебинаре, для первой функции практически сделали) и положите его в src.recommenders.py\n",
    "4. Проверьте, что все модули корректно импортируются"
   ]
  },
  {
   "cell_type": "code",
   "execution_count": 355,
   "metadata": {
    "ExecuteTime": {
     "end_time": "2020-06-01T12:57:22.260116Z",
     "start_time": "2020-06-01T12:57:22.254679Z"
    }
   },
   "outputs": [],
   "source": [
    "import os, sys\n",
    "\n",
    "module_path = os.path.abspath(os.path.join(os.pardir))\n",
    "if module_path not in sys.path:\n",
    "    sys.path.append(module_path)\n",
    "\n",
    "from src.dataset import load_data\n",
    "from src.metrics import precision_at_k, recall_at_k\n",
    "from src.utils import prefilter_items\n",
    "from src.recommenders import MainRecommender"
   ]
  },
  {
   "cell_type": "code",
   "execution_count": 356,
   "metadata": {
    "ExecuteTime": {
     "end_time": "2020-06-01T12:57:26.849615Z",
     "start_time": "2020-06-01T12:57:22.775807Z"
    }
   },
   "outputs": [],
   "source": [
    "train, test, product, baseline = load_data()"
   ]
  },
  {
   "cell_type": "code",
   "execution_count": 357,
   "metadata": {
    "ExecuteTime": {
     "end_time": "2020-06-01T12:57:26.905477Z",
     "start_time": "2020-06-01T12:57:26.852997Z"
    }
   },
   "outputs": [],
   "source": [
    "# найдем категории в которых есть продукты данного магазина\n",
    "pcats = product[product['brand'] == 'Private'].groupby('department')['item_id'].nunique()\n",
    "pcats = pcats[pcats>100]\n",
    "pcats = product[product['department'].isin(pcats.index)]"
   ]
  },
  {
   "cell_type": "code",
   "execution_count": 358,
   "metadata": {
    "ExecuteTime": {
     "end_time": "2020-06-01T12:57:33.966715Z",
     "start_time": "2020-06-01T12:57:29.881587Z"
    }
   },
   "outputs": [
    {
     "name": "stdout",
     "output_type": "stream",
     "text": [
      "Decreased # items from 86865 to 5001\n"
     ]
    }
   ],
   "source": [
    "n_items_before = train['item_id'].nunique()\n",
    "\n",
    "data_train = prefilter_items(train, product_filter=pcats, top_n=5000)\n",
    "\n",
    "n_items_after = data_train['item_id'].nunique()\n",
    "print('Decreased # items from {} to {}'.format(n_items_before, n_items_after))"
   ]
  },
  {
   "cell_type": "code",
   "execution_count": 348,
   "metadata": {
    "ExecuteTime": {
     "end_time": "2020-06-01T12:52:43.668316Z",
     "start_time": "2020-06-01T12:52:28.054249Z"
    }
   },
   "outputs": [
    {
     "data": {
      "application/vnd.jupyter.widget-view+json": {
       "model_id": "2bf7d6ebc23f48db8215aed8802fd6dc",
       "version_major": 2,
       "version_minor": 0
      },
      "text/plain": [
       "HBox(children=(FloatProgress(value=0.0, max=15.0), HTML(value='')))"
      ]
     },
     "metadata": {},
     "output_type": "display_data"
    },
    {
     "name": "stdout",
     "output_type": "stream",
     "text": [
      "\n"
     ]
    },
    {
     "data": {
      "application/vnd.jupyter.widget-view+json": {
       "model_id": "4b9f11e3a853496fba2b3e804f35409a",
       "version_major": 2,
       "version_minor": 0
      },
      "text/plain": [
       "HBox(children=(FloatProgress(value=0.0, max=5001.0), HTML(value='')))"
      ]
     },
     "metadata": {},
     "output_type": "display_data"
    },
    {
     "name": "stdout",
     "output_type": "stream",
     "text": [
      "\n"
     ]
    }
   ],
   "source": [
    "mr = MainRecommender(data_train)"
   ]
  },
  {
   "cell_type": "code",
   "execution_count": 359,
   "metadata": {
    "ExecuteTime": {
     "end_time": "2020-06-01T12:59:21.066614Z",
     "start_time": "2020-06-01T12:59:20.748820Z"
    }
   },
   "outputs": [
    {
     "data": {
      "text/plain": [
       "[5569471, 1058997, 862349, 1070820, 893501]"
      ]
     },
     "execution_count": 359,
     "metadata": {},
     "output_type": "execute_result"
    }
   ],
   "source": [
    "mr.get_similar_users_recommendation(2500)"
   ]
  },
  {
   "cell_type": "code",
   "execution_count": null,
   "metadata": {
    "ExecuteTime": {
     "start_time": "2020-06-01T12:59:24.247Z"
    }
   },
   "outputs": [],
   "source": [
    "baseline['mainrecommender'] = baseline['user_id'].apply(lambda x: mr.get_recommendations(x))"
   ]
  },
  {
   "cell_type": "code",
   "execution_count": null,
   "metadata": {
    "ExecuteTime": {
     "start_time": "2020-06-01T12:59:25.905Z"
    }
   },
   "outputs": [],
   "source": [
    "baseline['similar_users'] = baseline['user_id'].apply(lambda x: mr.get_similar_users_recommendation(x))"
   ]
  },
  {
   "cell_type": "code",
   "execution_count": null,
   "metadata": {
    "ExecuteTime": {
     "start_time": "2020-06-01T12:59:46.661Z"
    }
   },
   "outputs": [],
   "source": [
    "def compare_precision_at_5(row):\n",
    "    flds = ['random_recommendation', 'popular_recommendation', 'itemitem', 'cosine', \n",
    "            'tfidf', 'own_purchases', 'mainrecommender', 'similar_users']\n",
    "    for i in flds:\n",
    "        row[f'precision_{i}'] = len(set(row[i]) & set(row['actual'])) / 5\n",
    "    return row\n",
    "\n",
    "precision = baseline.apply(lambda row: compare_precision_at_5(row), axis=1)\n",
    "precision.describe().T"
   ]
  }
 ],
 "metadata": {
  "kernelspec": {
   "display_name": "Python 3",
   "language": "python",
   "name": "python3"
  },
  "language_info": {
   "codemirror_mode": {
    "name": "ipython",
    "version": 3
   },
   "file_extension": ".py",
   "mimetype": "text/x-python",
   "name": "python",
   "nbconvert_exporter": "python",
   "pygments_lexer": "ipython3",
   "version": "3.7.1"
  },
  "toc": {
   "base_numbering": 1,
   "nav_menu": {},
   "number_sections": true,
   "sideBar": true,
   "skip_h1_title": false,
   "title_cell": "Table of Contents",
   "title_sidebar": "Contents",
   "toc_cell": false,
   "toc_position": {},
   "toc_section_display": true,
   "toc_window_display": false
  }
 },
 "nbformat": 4,
 "nbformat_minor": 2
}
